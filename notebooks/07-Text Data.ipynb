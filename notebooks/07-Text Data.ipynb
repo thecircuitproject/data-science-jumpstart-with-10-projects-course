{
 "cells": [
  {
   "cell_type": "markdown",
   "id": "fd47c5cd",
   "metadata": {},
   "source": [
    "# Project 7: Movie Reviews - Working with text data\n",
    "\n",
    "For this module, we will be exploring the techniques for working with text data. You will learn about:\n",
    "\n",
    "* Text cleaning and pre-processing\n",
    "* Text classification"
   ]
  },
  {
   "cell_type": "code",
   "execution_count": 1,
   "id": "b0776ed2",
   "metadata": {},
   "outputs": [],
   "source": [
    "import pandas as pd\n",
    "import polars as pl\n",
    "\n",
    "import glob\n",
    "import os"
   ]
  },
  {
   "cell_type": "code",
   "execution_count": 2,
   "id": "b5141284",
   "metadata": {
    "scrolled": true
   },
   "outputs": [
    {
     "name": "stderr",
     "output_type": "stream",
     "text": [
      "'ls' is not recognized as an internal or external command,\n",
      "operable program or batch file.\n"
     ]
    }
   ],
   "source": [
    "!ls data/aclImdb/train"
   ]
  },
  {
   "cell_type": "code",
   "execution_count": 3,
   "id": "9f85d474",
   "metadata": {
    "scrolled": true
   },
   "outputs": [
    {
     "name": "stderr",
     "output_type": "stream",
     "text": [
      "'cat' is not recognized as an internal or external command,\n",
      "operable program or batch file.\n"
     ]
    }
   ],
   "source": [
    "!cat data/aclImdb/README"
   ]
  },
  {
   "cell_type": "code",
   "execution_count": 4,
   "id": "7e010a4f",
   "metadata": {
    "scrolled": true
   },
   "outputs": [
    {
     "name": "stderr",
     "output_type": "stream",
     "text": [
      "'cat' is not recognized as an internal or external command,\n",
      "operable program or batch file.\n"
     ]
    }
   ],
   "source": [
    "!cat data/aclImdb/train/pos/10000_8.txt"
   ]
  },
  {
   "cell_type": "code",
   "execution_count": null,
   "id": "fd69e44a",
   "metadata": {},
   "outputs": [],
   "source": []
  },
  {
   "cell_type": "markdown",
   "id": "237eedec",
   "metadata": {},
   "source": [
    "## Load Data"
   ]
  },
  {
   "cell_type": "code",
   "execution_count": 5,
   "id": "3cdeb041",
   "metadata": {},
   "outputs": [
    {
     "name": "stdout",
     "output_type": "stream",
     "text": [
      "reviews_dir='data/aclImdb/train\\\\pos'\n",
      "reviews_dir='data/aclImdb/train\\\\neg'\n",
      "     unique_id  rating sentiment  \\\n",
      "492      10172       1       neg   \n",
      "\n",
      "                                           review_text  \n",
      "492  When I spotted that Noah Wyle and Ricky Schrod...  \n"
     ]
    }
   ],
   "source": [
    "import os\n",
    "import glob\n",
    "import pandas as pd\n",
    "\n",
    "def read_reviews(data_dir:str, dataset:str, sentiment:str, limit:int=None) -> pd.DataFrame:\n",
    "    dfs = []\n",
    "    i = 0\n",
    "    # set the path to the directory containing the reviews for this sentiment\n",
    "    reviews_dir = os.path.join(data_dir, dataset, sentiment)\n",
    "    print(f'{reviews_dir=}')\n",
    "    # loop through all the text files in the directory\n",
    "    for file_path in glob.glob(os.path.join(reviews_dir, \"*.txt\")):\n",
    "        # extract the unique id and rating from the file name\n",
    "        file_name = os.path.basename(file_path)\n",
    "        unique_id = file_name.split(\"_\")[0]\n",
    "        rating = file_name.split(\"_\")[1].split(\".\")[0]\n",
    "\n",
    "        # read the text file into a pandas DataFrame\n",
    "        with open(file_path, \"r\") as f:\n",
    "            review_text = f.read()\n",
    "            df = pd.DataFrame({\"unique_id\": [unique_id], \n",
    "                \"rating\": [rating], \"sentiment\": [sentiment],\n",
    "                \"review_text\": [review_text]})\n",
    "\n",
    "        # append the DataFrame to the list\n",
    "        dfs.append(df)\n",
    "        i += 1\n",
    "        if limit is not None and i > limit:\n",
    "            break\n",
    "    return pd.concat(dfs, ignore_index=True)\n",
    "\n",
    "\n",
    "data_dir = \"data/aclImdb/\"\n",
    "dataset = \"train\"\n",
    "df_pos = read_reviews(data_dir, dataset, sentiment='pos', limit=300)\n",
    "df_neg = read_reviews(data_dir, dataset, sentiment='neg', limit=300)\n",
    "\n",
    "df = (pd.concat([df_pos, df_neg], axis='index')\n",
    "   .reset_index(drop=True)\n",
    "      .astype({'rating': 'int8[pyarrow]',\n",
    "               'unique_id': 'int64[pyarrow]',\n",
    "               'sentiment': 'string[pyarrow]',\n",
    "               'review_text': 'string[pyarrow]'\n",
    "              })\n",
    "     )\n",
    "\n",
    "# print the first five rows of the DataFrame\n",
    "print(df.sample())"
   ]
  },
  {
   "cell_type": "code",
   "execution_count": 6,
   "id": "7a6a8b7f",
   "metadata": {
    "scrolled": true
   },
   "outputs": [
    {
     "data": {
      "text/html": [
       "<div>\n",
       "<style scoped>\n",
       "    .dataframe tbody tr th:only-of-type {\n",
       "        vertical-align: middle;\n",
       "    }\n",
       "\n",
       "    .dataframe tbody tr th {\n",
       "        vertical-align: top;\n",
       "    }\n",
       "\n",
       "    .dataframe thead th {\n",
       "        text-align: right;\n",
       "    }\n",
       "</style>\n",
       "<table border=\"1\" class=\"dataframe\">\n",
       "  <thead>\n",
       "    <tr style=\"text-align: right;\">\n",
       "      <th></th>\n",
       "      <th>unique_id</th>\n",
       "      <th>rating</th>\n",
       "      <th>sentiment</th>\n",
       "      <th>review_text</th>\n",
       "    </tr>\n",
       "  </thead>\n",
       "  <tbody>\n",
       "    <tr>\n",
       "      <th>0</th>\n",
       "      <td>0</td>\n",
       "      <td>9</td>\n",
       "      <td>pos</td>\n",
       "      <td>Bromwell High is a cartoon comedy. It ran at t...</td>\n",
       "    </tr>\n",
       "    <tr>\n",
       "      <th>1</th>\n",
       "      <td>10000</td>\n",
       "      <td>8</td>\n",
       "      <td>pos</td>\n",
       "      <td>Homelessness (or Houselessness as George Carli...</td>\n",
       "    </tr>\n",
       "    <tr>\n",
       "      <th>2</th>\n",
       "      <td>10001</td>\n",
       "      <td>10</td>\n",
       "      <td>pos</td>\n",
       "      <td>Brilliant over-acting by Lesley Ann Warren. Be...</td>\n",
       "    </tr>\n",
       "    <tr>\n",
       "      <th>3</th>\n",
       "      <td>10002</td>\n",
       "      <td>7</td>\n",
       "      <td>pos</td>\n",
       "      <td>This is easily the most underrated film inn th...</td>\n",
       "    </tr>\n",
       "    <tr>\n",
       "      <th>4</th>\n",
       "      <td>10003</td>\n",
       "      <td>8</td>\n",
       "      <td>pos</td>\n",
       "      <td>This is not the typical Mel Brooks film. It wa...</td>\n",
       "    </tr>\n",
       "    <tr>\n",
       "      <th>...</th>\n",
       "      <td>...</td>\n",
       "      <td>...</td>\n",
       "      <td>...</td>\n",
       "      <td>...</td>\n",
       "    </tr>\n",
       "    <tr>\n",
       "      <th>597</th>\n",
       "      <td>10267</td>\n",
       "      <td>1</td>\n",
       "      <td>neg</td>\n",
       "      <td>This piece ain't really worth a comment.. It's...</td>\n",
       "    </tr>\n",
       "    <tr>\n",
       "      <th>598</th>\n",
       "      <td>10268</td>\n",
       "      <td>1</td>\n",
       "      <td>neg</td>\n",
       "      <td>Without a doubt this is one of the worst films...</td>\n",
       "    </tr>\n",
       "    <tr>\n",
       "      <th>599</th>\n",
       "      <td>10269</td>\n",
       "      <td>1</td>\n",
       "      <td>neg</td>\n",
       "      <td>this movie is outrageous. by outrageous, i mea...</td>\n",
       "    </tr>\n",
       "    <tr>\n",
       "      <th>600</th>\n",
       "      <td>1026</td>\n",
       "      <td>3</td>\n",
       "      <td>neg</td>\n",
       "      <td>Wow. I do not think I have ever seen a movie w...</td>\n",
       "    </tr>\n",
       "    <tr>\n",
       "      <th>601</th>\n",
       "      <td>10270</td>\n",
       "      <td>1</td>\n",
       "      <td>neg</td>\n",
       "      <td>\"American Nightmare\" is officially tied, in my...</td>\n",
       "    </tr>\n",
       "  </tbody>\n",
       "</table>\n",
       "<p>602 rows × 4 columns</p>\n",
       "</div>"
      ],
      "text/plain": [
       "     unique_id  rating sentiment  \\\n",
       "0            0       9       pos   \n",
       "1        10000       8       pos   \n",
       "2        10001      10       pos   \n",
       "3        10002       7       pos   \n",
       "4        10003       8       pos   \n",
       "..         ...     ...       ...   \n",
       "597      10267       1       neg   \n",
       "598      10268       1       neg   \n",
       "599      10269       1       neg   \n",
       "600       1026       3       neg   \n",
       "601      10270       1       neg   \n",
       "\n",
       "                                           review_text  \n",
       "0    Bromwell High is a cartoon comedy. It ran at t...  \n",
       "1    Homelessness (or Houselessness as George Carli...  \n",
       "2    Brilliant over-acting by Lesley Ann Warren. Be...  \n",
       "3    This is easily the most underrated film inn th...  \n",
       "4    This is not the typical Mel Brooks film. It wa...  \n",
       "..                                                 ...  \n",
       "597  This piece ain't really worth a comment.. It's...  \n",
       "598  Without a doubt this is one of the worst films...  \n",
       "599  this movie is outrageous. by outrageous, i mea...  \n",
       "600  Wow. I do not think I have ever seen a movie w...  \n",
       "601  \"American Nightmare\" is officially tied, in my...  \n",
       "\n",
       "[602 rows x 4 columns]"
      ]
     },
     "execution_count": 6,
     "metadata": {},
     "output_type": "execute_result"
    }
   ],
   "source": [
    "df"
   ]
  },
  {
   "cell_type": "code",
   "execution_count": 9,
   "id": "2e673e28",
   "metadata": {},
   "outputs": [],
   "source": [
    "df_pl = pl.from_pandas(df)"
   ]
  },
  {
   "cell_type": "code",
   "execution_count": 10,
   "id": "7226b961",
   "metadata": {},
   "outputs": [
    {
     "data": {
      "text/html": [
       "<div><style>\n",
       ".dataframe > thead > tr,\n",
       ".dataframe > tbody > tr {\n",
       "  text-align: right;\n",
       "  white-space: pre-wrap;\n",
       "}\n",
       "</style>\n",
       "<small>shape: (602, 4)</small><table border=\"1\" class=\"dataframe\"><thead><tr><th>unique_id</th><th>rating</th><th>sentiment</th><th>review_text</th></tr><tr><td>i64</td><td>i8</td><td>str</td><td>str</td></tr></thead><tbody><tr><td>0</td><td>9</td><td>&quot;pos&quot;</td><td>&quot;Bromwell High …</td></tr><tr><td>10000</td><td>8</td><td>&quot;pos&quot;</td><td>&quot;Homelessness (…</td></tr><tr><td>10001</td><td>10</td><td>&quot;pos&quot;</td><td>&quot;Brilliant over…</td></tr><tr><td>10002</td><td>7</td><td>&quot;pos&quot;</td><td>&quot;This is easily…</td></tr><tr><td>10003</td><td>8</td><td>&quot;pos&quot;</td><td>&quot;This is not th…</td></tr><tr><td>10004</td><td>8</td><td>&quot;pos&quot;</td><td>&quot;This isn&#x27;t the…</td></tr><tr><td>10005</td><td>7</td><td>&quot;pos&quot;</td><td>&quot;Yes its an art…</td></tr><tr><td>10006</td><td>7</td><td>&quot;pos&quot;</td><td>&quot;In this &quot;criti…</td></tr><tr><td>10007</td><td>7</td><td>&quot;pos&quot;</td><td>&quot;THE NIGHT LIST…</td></tr><tr><td>10008</td><td>7</td><td>&quot;pos&quot;</td><td>&quot;You know, Robi…</td></tr><tr><td>10009</td><td>9</td><td>&quot;pos&quot;</td><td>&quot;When I first r…</td></tr><tr><td>1000</td><td>8</td><td>&quot;pos&quot;</td><td>&quot;I liked the fi…</td></tr><tr><td>&hellip;</td><td>&hellip;</td><td>&hellip;</td><td>&hellip;</td></tr><tr><td>10260</td><td>1</td><td>&quot;neg&quot;</td><td>&quot;This movie was…</td></tr><tr><td>10261</td><td>1</td><td>&quot;neg&quot;</td><td>&quot;Wow, I just sa…</td></tr><tr><td>10262</td><td>1</td><td>&quot;neg&quot;</td><td>&quot;Now, I flicked…</td></tr><tr><td>10263</td><td>4</td><td>&quot;neg&quot;</td><td>&quot;Yes, The South…</td></tr><tr><td>10264</td><td>4</td><td>&quot;neg&quot;</td><td>&quot;The head of a …</td></tr><tr><td>10265</td><td>2</td><td>&quot;neg&quot;</td><td>&quot;Kirstie Alley,…</td></tr><tr><td>10266</td><td>1</td><td>&quot;neg&quot;</td><td>&quot;1st watched 11…</td></tr><tr><td>10267</td><td>1</td><td>&quot;neg&quot;</td><td>&quot;This piece ain…</td></tr><tr><td>10268</td><td>1</td><td>&quot;neg&quot;</td><td>&quot;Without a doub…</td></tr><tr><td>10269</td><td>1</td><td>&quot;neg&quot;</td><td>&quot;this movie is …</td></tr><tr><td>1026</td><td>3</td><td>&quot;neg&quot;</td><td>&quot;Wow. I do not …</td></tr><tr><td>10270</td><td>1</td><td>&quot;neg&quot;</td><td>&quot;&quot;American Nigh…</td></tr></tbody></table></div>"
      ],
      "text/plain": [
       "shape: (602, 4)\n",
       "┌───────────┬────────┬───────────┬───────────────────────────────────┐\n",
       "│ unique_id ┆ rating ┆ sentiment ┆ review_text                       │\n",
       "│ ---       ┆ ---    ┆ ---       ┆ ---                               │\n",
       "│ i64       ┆ i8     ┆ str       ┆ str                               │\n",
       "╞═══════════╪════════╪═══════════╪═══════════════════════════════════╡\n",
       "│ 0         ┆ 9      ┆ pos       ┆ Bromwell High is a cartoon comed… │\n",
       "│ 10000     ┆ 8      ┆ pos       ┆ Homelessness (or Houselessness a… │\n",
       "│ 10001     ┆ 10     ┆ pos       ┆ Brilliant over-acting by Lesley … │\n",
       "│ 10002     ┆ 7      ┆ pos       ┆ This is easily the most underrat… │\n",
       "│ …         ┆ …      ┆ …         ┆ …                                 │\n",
       "│ 10268     ┆ 1      ┆ neg       ┆ Without a doubt this is one of t… │\n",
       "│ 10269     ┆ 1      ┆ neg       ┆ this movie is outrageous. by out… │\n",
       "│ 1026      ┆ 3      ┆ neg       ┆ Wow. I do not think I have ever … │\n",
       "│ 10270     ┆ 1      ┆ neg       ┆ \"American Nightmare\" is official… │\n",
       "└───────────┴────────┴───────────┴───────────────────────────────────┘"
      ]
     },
     "execution_count": 10,
     "metadata": {},
     "output_type": "execute_result"
    }
   ],
   "source": [
    "df_pl"
   ]
  },
  {
   "cell_type": "markdown",
   "id": "39d5a9c5",
   "metadata": {},
   "source": [
    "## Basic String Manipulation"
   ]
  },
  {
   "cell_type": "code",
   "execution_count": 7,
   "id": "089cde92",
   "metadata": {
    "scrolled": true
   },
   "outputs": [
    {
     "data": {
      "text/plain": [
       "0      Bromwell high is a cartoon comedy. it ran at t...\n",
       "1      Homelessness (or houselessness as george carli...\n",
       "2      Brilliant over-acting by lesley ann warren. be...\n",
       "3      This is easily the most underrated film inn th...\n",
       "4      This is not the typical mel brooks film. it wa...\n",
       "                             ...                        \n",
       "597    This piece ain't really worth a comment.. it's...\n",
       "598    Without a doubt this is one of the worst films...\n",
       "599    This movie is outrageous. by outrageous, i mea...\n",
       "600    Wow. i do not think i have ever seen a movie w...\n",
       "601    \"american nightmare\" is officially tied, in my...\n",
       "Name: review_text, Length: 602, dtype: string"
      ]
     },
     "execution_count": 7,
     "metadata": {},
     "output_type": "execute_result"
    }
   ],
   "source": [
    "df.review_text.str.capitalize()"
   ]
  },
  {
   "cell_type": "code",
   "execution_count": 8,
   "id": "57b7285d",
   "metadata": {},
   "outputs": [
    {
     "data": {
      "text/plain": [
       "<pandas.core.strings.accessor.StringMethods at 0x1a58a2daae0>"
      ]
     },
     "execution_count": 8,
     "metadata": {},
     "output_type": "execute_result"
    }
   ],
   "source": [
    "df.review_text.str"
   ]
  },
  {
   "cell_type": "code",
   "execution_count": 27,
   "id": "268608f1",
   "metadata": {},
   "outputs": [
    {
     "name": "stdout",
     "output_type": "stream",
     "text": [
      "['capitalize', 'casefold', 'cat', 'center', 'contains', 'count', 'decode', 'encode', 'endswith', 'extract', 'extractall', 'find', 'findall', 'fullmatch', 'get', 'get_dummies', 'index', 'isalnum', 'isalpha', 'isdecimal', 'isdigit', 'islower', 'isnumeric', 'isspace', 'istitle', 'isupper', 'join', 'len', 'ljust', 'lower', 'lstrip', 'match', 'normalize', 'pad', 'partition', 'removeprefix', 'removesuffix', 'repeat', 'replace', 'rfind', 'rindex', 'rjust', 'rpartition', 'rsplit', 'rstrip', 'slice', 'slice_replace', 'split', 'startswith', 'strip', 'swapcase', 'title', 'translate', 'upper', 'wrap', 'zfill']\n"
     ]
    }
   ],
   "source": [
    "print([x for x in dir(df.review_text.str)\n",
    "           if not x.startswith('_')])"
   ]
  },
  {
   "cell_type": "code",
   "execution_count": 28,
   "id": "68a9514e",
   "metadata": {},
   "outputs": [
    {
     "name": "stdout",
     "output_type": "stream",
     "text": [
      "['capitalize', 'casefold', 'center', 'count', 'encode', 'endswith', 'expandtabs', 'find', 'format', 'format_map', 'index', 'isalnum', 'isalpha', 'isascii', 'isdecimal', 'isdigit', 'isidentifier', 'islower', 'isnumeric', 'isprintable', 'isspace', 'istitle', 'isupper', 'join', 'ljust', 'lower', 'lstrip', 'maketrans', 'partition', 'removeprefix', 'removesuffix', 'replace', 'rfind', 'rindex', 'rjust', 'rpartition', 'rsplit', 'rstrip', 'split', 'splitlines', 'startswith', 'strip', 'swapcase', 'title', 'translate', 'upper', 'zfill']\n"
     ]
    }
   ],
   "source": [
    "print([x for x in dir('')\n",
    "           if not x.startswith('_')])"
   ]
  },
  {
   "cell_type": "code",
   "execution_count": null,
   "id": "03309123",
   "metadata": {},
   "outputs": [],
   "source": []
  },
  {
   "cell_type": "code",
   "execution_count": null,
   "id": "d1bd43b2",
   "metadata": {},
   "outputs": [],
   "source": []
  },
  {
   "cell_type": "markdown",
   "id": "d6938b95",
   "metadata": {},
   "source": [
    "## Remove Stop Words"
   ]
  },
  {
   "cell_type": "code",
   "execution_count": null,
   "id": "fea479ef",
   "metadata": {
    "scrolled": true
   },
   "outputs": [],
   "source": [
    "# !pip install spacy"
   ]
  },
  {
   "cell_type": "code",
   "execution_count": 30,
   "id": "f2a58105",
   "metadata": {
    "scrolled": true
   },
   "outputs": [
    {
     "name": "stdout",
     "output_type": "stream",
     "text": [
      "Collecting en-core-web-sm==3.7.1\n",
      "  Downloading https://github.com/explosion/spacy-models/releases/download/en_core_web_sm-3.7.1/en_core_web_sm-3.7.1-py3-none-any.whl (12.8 MB)\n",
      "     ---------------------------------------- 0.0/12.8 MB ? eta -:--:--\n",
      "     ---------------------------------------- 0.0/12.8 MB ? eta -:--:--\n",
      "     --------------------------------------- 0.0/12.8 MB 445.2 kB/s eta 0:00:29\n",
      "     --------------------------------------- 0.1/12.8 MB 573.4 kB/s eta 0:00:23\n",
      "      --------------------------------------- 0.2/12.8 MB 1.1 MB/s eta 0:00:12\n",
      "     - -------------------------------------- 0.4/12.8 MB 1.8 MB/s eta 0:00:08\n",
      "     - -------------------------------------- 0.6/12.8 MB 2.5 MB/s eta 0:00:05\n",
      "     -- ------------------------------------- 0.9/12.8 MB 3.1 MB/s eta 0:00:04\n",
      "     --- ------------------------------------ 1.3/12.8 MB 3.8 MB/s eta 0:00:04\n",
      "     ---- ----------------------------------- 1.6/12.8 MB 4.1 MB/s eta 0:00:03\n",
      "     ----- ---------------------------------- 1.9/12.8 MB 4.5 MB/s eta 0:00:03\n",
      "     ------ --------------------------------- 2.2/12.8 MB 4.7 MB/s eta 0:00:03\n",
      "     ------- -------------------------------- 2.5/12.8 MB 5.1 MB/s eta 0:00:03\n",
      "     --------- ------------------------------ 2.9/12.8 MB 5.3 MB/s eta 0:00:02\n",
      "     --------- ------------------------------ 3.2/12.8 MB 5.3 MB/s eta 0:00:02\n",
      "     ---------- ----------------------------- 3.4/12.8 MB 5.5 MB/s eta 0:00:02\n",
      "     ----------- ---------------------------- 3.8/12.8 MB 5.7 MB/s eta 0:00:02\n",
      "     ------------ --------------------------- 4.1/12.8 MB 5.8 MB/s eta 0:00:02\n",
      "     ------------- -------------------------- 4.4/12.8 MB 5.9 MB/s eta 0:00:02\n",
      "     -------------- ------------------------- 4.7/12.8 MB 5.9 MB/s eta 0:00:02\n",
      "     --------------- ------------------------ 5.1/12.8 MB 6.0 MB/s eta 0:00:02\n",
      "     ---------------- ----------------------- 5.4/12.8 MB 6.1 MB/s eta 0:00:02\n",
      "     ----------------- ---------------------- 5.7/12.8 MB 6.2 MB/s eta 0:00:02\n",
      "     ------------------ --------------------- 6.0/12.8 MB 6.2 MB/s eta 0:00:02\n",
      "     ------------------- -------------------- 6.3/12.8 MB 6.3 MB/s eta 0:00:02\n",
      "     -------------------- ------------------- 6.6/12.8 MB 6.3 MB/s eta 0:00:01\n",
      "     --------------------- ------------------ 6.9/12.8 MB 6.4 MB/s eta 0:00:01\n",
      "     ---------------------- ----------------- 7.2/12.8 MB 6.4 MB/s eta 0:00:01\n",
      "     ----------------------- ---------------- 7.6/12.8 MB 6.5 MB/s eta 0:00:01\n",
      "     ------------------------ --------------- 7.9/12.8 MB 6.5 MB/s eta 0:00:01\n",
      "     ------------------------- -------------- 8.2/12.8 MB 6.5 MB/s eta 0:00:01\n",
      "     -------------------------- ------------- 8.6/12.8 MB 6.5 MB/s eta 0:00:01\n",
      "     --------------------------- ------------ 8.9/12.8 MB 6.5 MB/s eta 0:00:01\n",
      "     ---------------------------- ----------- 9.2/12.8 MB 6.6 MB/s eta 0:00:01\n",
      "     ----------------------------- ---------- 9.5/12.8 MB 6.6 MB/s eta 0:00:01\n",
      "     ------------------------------ --------- 9.8/12.8 MB 6.6 MB/s eta 0:00:01\n",
      "     ------------------------------- -------- 10.1/12.8 MB 6.7 MB/s eta 0:00:01\n",
      "     -------------------------------- ------- 10.5/12.8 MB 7.4 MB/s eta 0:00:01\n",
      "     --------------------------------- ------ 10.8/12.8 MB 7.5 MB/s eta 0:00:01\n",
      "     ---------------------------------- ----- 10.9/12.8 MB 7.4 MB/s eta 0:00:01\n",
      "     ---------------------------------- ----- 10.9/12.8 MB 7.4 MB/s eta 0:00:01\n",
      "     ---------------------------------- ----- 11.0/12.8 MB 7.0 MB/s eta 0:00:01\n",
      "     ---------------------------------- ----- 11.0/12.8 MB 7.0 MB/s eta 0:00:01\n",
      "     ----------------------------------- ---- 11.4/12.8 MB 6.8 MB/s eta 0:00:01\n",
      "     ------------------------------------ --- 11.7/12.8 MB 6.9 MB/s eta 0:00:01\n",
      "     ------------------------------------- -- 11.9/12.8 MB 6.7 MB/s eta 0:00:01\n",
      "     ------------------------------------- -- 12.0/12.8 MB 6.7 MB/s eta 0:00:01\n",
      "     -------------------------------------- - 12.2/12.8 MB 6.5 MB/s eta 0:00:01\n",
      "     -------------------------------------- - 12.3/12.8 MB 6.5 MB/s eta 0:00:01\n",
      "     -------------------------------------- - 12.4/12.8 MB 6.4 MB/s eta 0:00:01\n",
      "     ---------------------------------------  12.5/12.8 MB 6.2 MB/s eta 0:00:01\n",
      "     ---------------------------------------  12.6/12.8 MB 6.2 MB/s eta 0:00:01\n",
      "     ---------------------------------------  12.7/12.8 MB 6.1 MB/s eta 0:00:01\n",
      "     ---------------------------------------  12.8/12.8 MB 6.1 MB/s eta 0:00:01\n",
      "     ---------------------------------------- 12.8/12.8 MB 5.9 MB/s eta 0:00:00\n",
      "Requirement already satisfied: spacy<3.8.0,>=3.7.2 in c:\\users\\jborr\\documents\\eng\\talk python training\\env\\lib\\site-packages (from en-core-web-sm==3.7.1) (3.7.2)\n",
      "Requirement already satisfied: spacy-legacy<3.1.0,>=3.0.11 in c:\\users\\jborr\\documents\\eng\\talk python training\\env\\lib\\site-packages (from spacy<3.8.0,>=3.7.2->en-core-web-sm==3.7.1) (3.0.12)\n",
      "Requirement already satisfied: spacy-loggers<2.0.0,>=1.0.0 in c:\\users\\jborr\\documents\\eng\\talk python training\\env\\lib\\site-packages (from spacy<3.8.0,>=3.7.2->en-core-web-sm==3.7.1) (1.0.5)\n",
      "Requirement already satisfied: murmurhash<1.1.0,>=0.28.0 in c:\\users\\jborr\\documents\\eng\\talk python training\\env\\lib\\site-packages (from spacy<3.8.0,>=3.7.2->en-core-web-sm==3.7.1) (1.0.10)\n",
      "Requirement already satisfied: cymem<2.1.0,>=2.0.2 in c:\\users\\jborr\\documents\\eng\\talk python training\\env\\lib\\site-packages (from spacy<3.8.0,>=3.7.2->en-core-web-sm==3.7.1) (2.0.8)\n",
      "Requirement already satisfied: preshed<3.1.0,>=3.0.2 in c:\\users\\jborr\\documents\\eng\\talk python training\\env\\lib\\site-packages (from spacy<3.8.0,>=3.7.2->en-core-web-sm==3.7.1) (3.0.9)\n",
      "Requirement already satisfied: thinc<8.3.0,>=8.1.8 in c:\\users\\jborr\\documents\\eng\\talk python training\\env\\lib\\site-packages (from spacy<3.8.0,>=3.7.2->en-core-web-sm==3.7.1) (8.2.2)\n",
      "Requirement already satisfied: wasabi<1.2.0,>=0.9.1 in c:\\users\\jborr\\documents\\eng\\talk python training\\env\\lib\\site-packages (from spacy<3.8.0,>=3.7.2->en-core-web-sm==3.7.1) (1.1.2)\n",
      "Requirement already satisfied: srsly<3.0.0,>=2.4.3 in c:\\users\\jborr\\documents\\eng\\talk python training\\env\\lib\\site-packages (from spacy<3.8.0,>=3.7.2->en-core-web-sm==3.7.1) (2.4.8)\n",
      "Requirement already satisfied: catalogue<2.1.0,>=2.0.6 in c:\\users\\jborr\\documents\\eng\\talk python training\\env\\lib\\site-packages (from spacy<3.8.0,>=3.7.2->en-core-web-sm==3.7.1) (2.0.10)\n",
      "Requirement already satisfied: weasel<0.4.0,>=0.1.0 in c:\\users\\jborr\\documents\\eng\\talk python training\\env\\lib\\site-packages (from spacy<3.8.0,>=3.7.2->en-core-web-sm==3.7.1) (0.3.4)\n",
      "Requirement already satisfied: typer<0.10.0,>=0.3.0 in c:\\users\\jborr\\documents\\eng\\talk python training\\env\\lib\\site-packages (from spacy<3.8.0,>=3.7.2->en-core-web-sm==3.7.1) (0.9.0)\n",
      "Requirement already satisfied: smart-open<7.0.0,>=5.2.1 in c:\\users\\jborr\\documents\\eng\\talk python training\\env\\lib\\site-packages (from spacy<3.8.0,>=3.7.2->en-core-web-sm==3.7.1) (6.4.0)\n",
      "Requirement already satisfied: tqdm<5.0.0,>=4.38.0 in c:\\users\\jborr\\documents\\eng\\talk python training\\env\\lib\\site-packages (from spacy<3.8.0,>=3.7.2->en-core-web-sm==3.7.1) (4.66.1)\n",
      "Requirement already satisfied: requests<3.0.0,>=2.13.0 in c:\\users\\jborr\\documents\\eng\\talk python training\\env\\lib\\site-packages (from spacy<3.8.0,>=3.7.2->en-core-web-sm==3.7.1) (2.31.0)\n",
      "Requirement already satisfied: pydantic!=1.8,!=1.8.1,<3.0.0,>=1.7.4 in c:\\users\\jborr\\documents\\eng\\talk python training\\env\\lib\\site-packages (from spacy<3.8.0,>=3.7.2->en-core-web-sm==3.7.1) (2.6.0)\n",
      "Requirement already satisfied: jinja2 in c:\\users\\jborr\\documents\\eng\\talk python training\\env\\lib\\site-packages (from spacy<3.8.0,>=3.7.2->en-core-web-sm==3.7.1) (3.1.2)\n",
      "Requirement already satisfied: setuptools in c:\\users\\jborr\\documents\\eng\\talk python training\\env\\lib\\site-packages (from spacy<3.8.0,>=3.7.2->en-core-web-sm==3.7.1) (69.0.3)\n",
      "Requirement already satisfied: packaging>=20.0 in c:\\users\\jborr\\documents\\eng\\talk python training\\env\\lib\\site-packages (from spacy<3.8.0,>=3.7.2->en-core-web-sm==3.7.1) (23.2)\n",
      "Requirement already satisfied: langcodes<4.0.0,>=3.2.0 in c:\\users\\jborr\\documents\\eng\\talk python training\\env\\lib\\site-packages (from spacy<3.8.0,>=3.7.2->en-core-web-sm==3.7.1) (3.3.0)\n",
      "Requirement already satisfied: numpy>=1.19.0 in c:\\users\\jborr\\documents\\eng\\talk python training\\env\\lib\\site-packages (from spacy<3.8.0,>=3.7.2->en-core-web-sm==3.7.1) (1.26.2)\n",
      "Requirement already satisfied: annotated-types>=0.4.0 in c:\\users\\jborr\\documents\\eng\\talk python training\\env\\lib\\site-packages (from pydantic!=1.8,!=1.8.1,<3.0.0,>=1.7.4->spacy<3.8.0,>=3.7.2->en-core-web-sm==3.7.1) (0.6.0)\n",
      "Requirement already satisfied: pydantic-core==2.16.1 in c:\\users\\jborr\\documents\\eng\\talk python training\\env\\lib\\site-packages (from pydantic!=1.8,!=1.8.1,<3.0.0,>=1.7.4->spacy<3.8.0,>=3.7.2->en-core-web-sm==3.7.1) (2.16.1)\n",
      "Requirement already satisfied: typing-extensions>=4.6.1 in c:\\users\\jborr\\documents\\eng\\talk python training\\env\\lib\\site-packages (from pydantic!=1.8,!=1.8.1,<3.0.0,>=1.7.4->spacy<3.8.0,>=3.7.2->en-core-web-sm==3.7.1) (4.9.0)\n",
      "Requirement already satisfied: charset-normalizer<4,>=2 in c:\\users\\jborr\\documents\\eng\\talk python training\\env\\lib\\site-packages (from requests<3.0.0,>=2.13.0->spacy<3.8.0,>=3.7.2->en-core-web-sm==3.7.1) (3.3.2)\n",
      "Requirement already satisfied: idna<4,>=2.5 in c:\\users\\jborr\\documents\\eng\\talk python training\\env\\lib\\site-packages (from requests<3.0.0,>=2.13.0->spacy<3.8.0,>=3.7.2->en-core-web-sm==3.7.1) (3.6)\n",
      "Requirement already satisfied: urllib3<3,>=1.21.1 in c:\\users\\jborr\\documents\\eng\\talk python training\\env\\lib\\site-packages (from requests<3.0.0,>=2.13.0->spacy<3.8.0,>=3.7.2->en-core-web-sm==3.7.1) (2.1.0)\n",
      "Requirement already satisfied: certifi>=2017.4.17 in c:\\users\\jborr\\documents\\eng\\talk python training\\env\\lib\\site-packages (from requests<3.0.0,>=2.13.0->spacy<3.8.0,>=3.7.2->en-core-web-sm==3.7.1) (2023.11.17)\n",
      "Requirement already satisfied: blis<0.8.0,>=0.7.8 in c:\\users\\jborr\\documents\\eng\\talk python training\\env\\lib\\site-packages (from thinc<8.3.0,>=8.1.8->spacy<3.8.0,>=3.7.2->en-core-web-sm==3.7.1) (0.7.11)\n",
      "Requirement already satisfied: confection<1.0.0,>=0.0.1 in c:\\users\\jborr\\documents\\eng\\talk python training\\env\\lib\\site-packages (from thinc<8.3.0,>=8.1.8->spacy<3.8.0,>=3.7.2->en-core-web-sm==3.7.1) (0.1.4)\n",
      "Requirement already satisfied: colorama in c:\\users\\jborr\\documents\\eng\\talk python training\\env\\lib\\site-packages (from tqdm<5.0.0,>=4.38.0->spacy<3.8.0,>=3.7.2->en-core-web-sm==3.7.1) (0.4.6)\n",
      "Requirement already satisfied: click<9.0.0,>=7.1.1 in c:\\users\\jborr\\documents\\eng\\talk python training\\env\\lib\\site-packages (from typer<0.10.0,>=0.3.0->spacy<3.8.0,>=3.7.2->en-core-web-sm==3.7.1) (8.1.7)\n",
      "Requirement already satisfied: cloudpathlib<0.17.0,>=0.7.0 in c:\\users\\jborr\\documents\\eng\\talk python training\\env\\lib\\site-packages (from weasel<0.4.0,>=0.1.0->spacy<3.8.0,>=3.7.2->en-core-web-sm==3.7.1) (0.16.0)\n",
      "Requirement already satisfied: MarkupSafe>=2.0 in c:\\users\\jborr\\documents\\eng\\talk python training\\env\\lib\\site-packages (from jinja2->spacy<3.8.0,>=3.7.2->en-core-web-sm==3.7.1) (2.1.3)\n",
      "Installing collected packages: en-core-web-sm\n",
      "Successfully installed en-core-web-sm-3.7.1\n",
      "\u001b[38;5;2m✔ Download and installation successful\u001b[0m\n",
      "You can now load the package via spacy.load('en_core_web_sm')\n"
     ]
    },
    {
     "name": "stderr",
     "output_type": "stream",
     "text": [
      "\n",
      "[notice] A new release of pip is available: 23.2.1 -> 24.0\n",
      "[notice] To update, run: python.exe -m pip install --upgrade pip\n"
     ]
    }
   ],
   "source": [
    "!python -m spacy download en_core_web_sm"
   ]
  },
  {
   "cell_type": "code",
   "execution_count": 31,
   "id": "453ffa35",
   "metadata": {},
   "outputs": [
    {
     "name": "stdout",
     "output_type": "stream",
     "text": [
      "\n",
      "⠙ Loading compatibility table...\n",
      "⠹ Loading compatibility table...\n",
      "⠸ Loading compatibility table...\n",
      "⠼ Loading compatibility table...\n",
      "⠴ Loading compatibility table...\n",
      "\u001b[2K\u001b[38;5;2m✔ Loaded compatibility table\u001b[0m\n",
      "\u001b[1m\n",
      "================= Installed pipeline packages (spaCy v3.7.2) =================\u001b[0m\n",
      "\u001b[38;5;4mℹ spaCy installation: c:\\Users\\jborr\\Documents\\Eng\\Talk Python\n",
      "Training\\env\\Lib\\site-packages\\spacy\u001b[0m\n",
      "\n",
      "NAME             SPACY            VERSION                            \n",
      "en_core_web_sm   >=3.7.2,<3.8.0   \u001b[38;5;2m3.7.1\u001b[0m   \u001b[38;5;2m✔\u001b[0m\n",
      "\n"
     ]
    }
   ],
   "source": [
    "!python -m spacy validate"
   ]
  },
  {
   "cell_type": "code",
   "execution_count": 32,
   "id": "d9979f86",
   "metadata": {},
   "outputs": [],
   "source": [
    "import spacy\n",
    "nlp = spacy.load('en_core_web_sm')"
   ]
  },
  {
   "cell_type": "code",
   "execution_count": 33,
   "id": "a5e38f3e",
   "metadata": {
    "scrolled": true
   },
   "outputs": [
    {
     "name": "stdout",
     "output_type": "stream",
     "text": [
      "CPU times: total: 21 s\n",
      "Wall time: 22 s\n"
     ]
    },
    {
     "data": {
      "text/plain": [
       "0      Bromwell High cartoon comedy . ran time progra...\n",
       "1      Homelessness ( Houselessness George Carlin sta...\n",
       "2      Brilliant - acting Lesley Ann Warren . Best dr...\n",
       "3      easily underrated film inn Brooks cannon . Sur...\n",
       "4      typical Mel Brooks film . slapstick movies act...\n",
       "                             ...                        \n",
       "597    piece ai worth comment .. simply worst \" horro...\n",
       "598    doubt worst films wasted money ! plot , erm so...\n",
       "599    movie outrageous . outrageous , mean awful . f...\n",
       "600    Wow . think seen movie great actors pivotal ro...\n",
       "601    \" American Nightmare \" officially tied , opini...\n",
       "Name: review_text, Length: 602, dtype: object"
      ]
     },
     "execution_count": 33,
     "metadata": {},
     "output_type": "execute_result"
    }
   ],
   "source": [
    "%%time\n",
    "def remove_stop(txt, nlp):\n",
    "    doc = nlp(txt)\n",
    "    res =  ' '.join(tok.text for tok in doc if not tok.is_stop)\n",
    "    #print(res)\n",
    "    return res\n",
    "\n",
    "(df\n",
    " .review_text\n",
    " .apply(remove_stop, nlp=nlp)\n",
    ")"
   ]
  },
  {
   "cell_type": "code",
   "execution_count": 34,
   "id": "051b1de9",
   "metadata": {},
   "outputs": [
    {
     "data": {
      "text/plain": [
       "0      Bromwell High cartoon comedy . ran time progra...\n",
       "1      Homelessness ( Houselessness George Carlin sta...\n",
       "2      Brilliant - acting Lesley Ann Warren . Best dr...\n",
       "3      easily underrated film inn Brooks cannon . Sur...\n",
       "4      typical Mel Brooks film . slapstick movies act...\n",
       "                             ...                        \n",
       "597    piece ai worth comment .. simply worst \" horro...\n",
       "598    doubt worst films wasted money ! plot , erm so...\n",
       "599    movie outrageous . outrageous , mean awful . f...\n",
       "600    Wow . think seen movie great actors pivotal ro...\n",
       "601    \" American Nightmare \" officially tied , opini...\n",
       "Name: review_text, Length: 602, dtype: object"
      ]
     },
     "execution_count": 34,
     "metadata": {},
     "output_type": "execute_result"
    }
   ],
   "source": [
    "def remove_stop(txt, nlp):\n",
    "    txt = txt.replace('<br />', '')\n",
    "    doc = nlp(txt)\n",
    "    res =  ' '.join(tok.text for tok in doc if not tok.is_stop)\n",
    "    return res\n",
    "\n",
    "(df\n",
    " .review_text\n",
    " .apply(remove_stop, nlp=nlp)\n",
    ")"
   ]
  },
  {
   "cell_type": "code",
   "execution_count": 35,
   "id": "0a851a06",
   "metadata": {
    "scrolled": true
   },
   "outputs": [
    {
     "data": {
      "text/plain": [
       "0      Bromwell High is a cartoon comedy. It ran at t...\n",
       "1      Homelessness (or Houselessness as George Carli...\n",
       "2      Brilliant over-acting by Lesley Ann Warren. Be...\n",
       "3      This is easily the most underrated film inn th...\n",
       "4      This is not the typical Mel Brooks film. It wa...\n",
       "                             ...                        \n",
       "597    This piece ain't really worth a comment.. It's...\n",
       "598    Without a doubt this is one of the worst films...\n",
       "599    this movie is outrageous. by outrageous, i mea...\n",
       "600    Wow. I do not think I have ever seen a movie w...\n",
       "601    \"American Nightmare\" is officially tied, in my...\n",
       "Name: review_text, Length: 602, dtype: string"
      ]
     },
     "execution_count": 35,
     "metadata": {},
     "output_type": "execute_result"
    }
   ],
   "source": [
    "df.review_text"
   ]
  },
  {
   "cell_type": "code",
   "execution_count": null,
   "id": "9224d6a5",
   "metadata": {},
   "outputs": [],
   "source": []
  },
  {
   "cell_type": "code",
   "execution_count": null,
   "id": "349a4a5b",
   "metadata": {},
   "outputs": [],
   "source": []
  },
  {
   "cell_type": "markdown",
   "id": "2b3367d1",
   "metadata": {},
   "source": [
    "## Get Tfidf"
   ]
  },
  {
   "cell_type": "code",
   "execution_count": null,
   "id": "f03adc3b",
   "metadata": {
    "scrolled": true
   },
   "outputs": [],
   "source": [
    "# !pip install scikit-learn"
   ]
  },
  {
   "cell_type": "code",
   "execution_count": 36,
   "id": "03586a0c",
   "metadata": {},
   "outputs": [],
   "source": [
    "from sklearn.feature_extraction.text import TfidfVectorizer\n",
    "\n",
    "vectorizer = TfidfVectorizer()\n",
    "txt_no_stop = df.review_text.apply(remove_stop, nlp=nlp)\n",
    "sparse = vectorizer.fit_transform(txt_no_stop)"
   ]
  },
  {
   "cell_type": "code",
   "execution_count": 37,
   "id": "04ab4e80",
   "metadata": {},
   "outputs": [
    {
     "data": {
      "text/plain": [
       "<602x12327 sparse matrix of type '<class 'numpy.float64'>'\n",
       "\twith 51987 stored elements in Compressed Sparse Row format>"
      ]
     },
     "execution_count": 37,
     "metadata": {},
     "output_type": "execute_result"
    }
   ],
   "source": [
    "sparse"
   ]
  },
  {
   "cell_type": "code",
   "execution_count": null,
   "id": "a0b9aa9e",
   "metadata": {},
   "outputs": [],
   "source": [
    "vectorizer.get_feature_names_out()"
   ]
  },
  {
   "cell_type": "code",
   "execution_count": 38,
   "id": "e41b1931",
   "metadata": {},
   "outputs": [],
   "source": [
    "tf_df = pd.DataFrame(sparse.todense(), \n",
    "                     columns=vectorizer.get_feature_names_out())"
   ]
  },
  {
   "cell_type": "code",
   "execution_count": 39,
   "id": "325d474b",
   "metadata": {
    "scrolled": true
   },
   "outputs": [
    {
     "data": {
      "text/html": [
       "<div>\n",
       "<style scoped>\n",
       "    .dataframe tbody tr th:only-of-type {\n",
       "        vertical-align: middle;\n",
       "    }\n",
       "\n",
       "    .dataframe tbody tr th {\n",
       "        vertical-align: top;\n",
       "    }\n",
       "\n",
       "    .dataframe thead th {\n",
       "        text-align: right;\n",
       "    }\n",
       "</style>\n",
       "<table border=\"1\" class=\"dataframe\">\n",
       "  <thead>\n",
       "    <tr style=\"text-align: right;\">\n",
       "      <th></th>\n",
       "      <th>unique_id</th>\n",
       "      <th>rating</th>\n",
       "      <th>sentiment</th>\n",
       "      <th>review_text</th>\n",
       "      <th>000</th>\n",
       "      <th>00am</th>\n",
       "      <th>02</th>\n",
       "      <th>05</th>\n",
       "      <th>06</th>\n",
       "      <th>07</th>\n",
       "      <th>...</th>\n",
       "      <th>zombiez</th>\n",
       "      <th>zombified</th>\n",
       "      <th>zone</th>\n",
       "      <th>zoom</th>\n",
       "      <th>zooms</th>\n",
       "      <th>zorro</th>\n",
       "      <th>zsigmond</th>\n",
       "      <th>zu</th>\n",
       "      <th>zubeidaa</th>\n",
       "      <th>â½</th>\n",
       "    </tr>\n",
       "  </thead>\n",
       "  <tbody>\n",
       "    <tr>\n",
       "      <th>0</th>\n",
       "      <td>0</td>\n",
       "      <td>9</td>\n",
       "      <td>pos</td>\n",
       "      <td>Bromwell High is a cartoon comedy. It ran at t...</td>\n",
       "      <td>0.0</td>\n",
       "      <td>0.0</td>\n",
       "      <td>0.0</td>\n",
       "      <td>0.0</td>\n",
       "      <td>0.0</td>\n",
       "      <td>0.0</td>\n",
       "      <td>...</td>\n",
       "      <td>0.0</td>\n",
       "      <td>0.0</td>\n",
       "      <td>0.0</td>\n",
       "      <td>0.0</td>\n",
       "      <td>0.0</td>\n",
       "      <td>0.0</td>\n",
       "      <td>0.0</td>\n",
       "      <td>0.0</td>\n",
       "      <td>0.0</td>\n",
       "      <td>0.0</td>\n",
       "    </tr>\n",
       "    <tr>\n",
       "      <th>1</th>\n",
       "      <td>10000</td>\n",
       "      <td>8</td>\n",
       "      <td>pos</td>\n",
       "      <td>Homelessness (or Houselessness as George Carli...</td>\n",
       "      <td>0.0</td>\n",
       "      <td>0.0</td>\n",
       "      <td>0.0</td>\n",
       "      <td>0.0</td>\n",
       "      <td>0.0</td>\n",
       "      <td>0.0</td>\n",
       "      <td>...</td>\n",
       "      <td>0.0</td>\n",
       "      <td>0.0</td>\n",
       "      <td>0.0</td>\n",
       "      <td>0.0</td>\n",
       "      <td>0.0</td>\n",
       "      <td>0.0</td>\n",
       "      <td>0.0</td>\n",
       "      <td>0.0</td>\n",
       "      <td>0.0</td>\n",
       "      <td>0.0</td>\n",
       "    </tr>\n",
       "    <tr>\n",
       "      <th>2</th>\n",
       "      <td>10001</td>\n",
       "      <td>10</td>\n",
       "      <td>pos</td>\n",
       "      <td>Brilliant over-acting by Lesley Ann Warren. Be...</td>\n",
       "      <td>0.0</td>\n",
       "      <td>0.0</td>\n",
       "      <td>0.0</td>\n",
       "      <td>0.0</td>\n",
       "      <td>0.0</td>\n",
       "      <td>0.0</td>\n",
       "      <td>...</td>\n",
       "      <td>0.0</td>\n",
       "      <td>0.0</td>\n",
       "      <td>0.0</td>\n",
       "      <td>0.0</td>\n",
       "      <td>0.0</td>\n",
       "      <td>0.0</td>\n",
       "      <td>0.0</td>\n",
       "      <td>0.0</td>\n",
       "      <td>0.0</td>\n",
       "      <td>0.0</td>\n",
       "    </tr>\n",
       "    <tr>\n",
       "      <th>3</th>\n",
       "      <td>10002</td>\n",
       "      <td>7</td>\n",
       "      <td>pos</td>\n",
       "      <td>This is easily the most underrated film inn th...</td>\n",
       "      <td>0.0</td>\n",
       "      <td>0.0</td>\n",
       "      <td>0.0</td>\n",
       "      <td>0.0</td>\n",
       "      <td>0.0</td>\n",
       "      <td>0.0</td>\n",
       "      <td>...</td>\n",
       "      <td>0.0</td>\n",
       "      <td>0.0</td>\n",
       "      <td>0.0</td>\n",
       "      <td>0.0</td>\n",
       "      <td>0.0</td>\n",
       "      <td>0.0</td>\n",
       "      <td>0.0</td>\n",
       "      <td>0.0</td>\n",
       "      <td>0.0</td>\n",
       "      <td>0.0</td>\n",
       "    </tr>\n",
       "    <tr>\n",
       "      <th>4</th>\n",
       "      <td>10003</td>\n",
       "      <td>8</td>\n",
       "      <td>pos</td>\n",
       "      <td>This is not the typical Mel Brooks film. It wa...</td>\n",
       "      <td>0.0</td>\n",
       "      <td>0.0</td>\n",
       "      <td>0.0</td>\n",
       "      <td>0.0</td>\n",
       "      <td>0.0</td>\n",
       "      <td>0.0</td>\n",
       "      <td>...</td>\n",
       "      <td>0.0</td>\n",
       "      <td>0.0</td>\n",
       "      <td>0.0</td>\n",
       "      <td>0.0</td>\n",
       "      <td>0.0</td>\n",
       "      <td>0.0</td>\n",
       "      <td>0.0</td>\n",
       "      <td>0.0</td>\n",
       "      <td>0.0</td>\n",
       "      <td>0.0</td>\n",
       "    </tr>\n",
       "    <tr>\n",
       "      <th>...</th>\n",
       "      <td>...</td>\n",
       "      <td>...</td>\n",
       "      <td>...</td>\n",
       "      <td>...</td>\n",
       "      <td>...</td>\n",
       "      <td>...</td>\n",
       "      <td>...</td>\n",
       "      <td>...</td>\n",
       "      <td>...</td>\n",
       "      <td>...</td>\n",
       "      <td>...</td>\n",
       "      <td>...</td>\n",
       "      <td>...</td>\n",
       "      <td>...</td>\n",
       "      <td>...</td>\n",
       "      <td>...</td>\n",
       "      <td>...</td>\n",
       "      <td>...</td>\n",
       "      <td>...</td>\n",
       "      <td>...</td>\n",
       "      <td>...</td>\n",
       "    </tr>\n",
       "    <tr>\n",
       "      <th>597</th>\n",
       "      <td>10267</td>\n",
       "      <td>1</td>\n",
       "      <td>neg</td>\n",
       "      <td>This piece ain't really worth a comment.. It's...</td>\n",
       "      <td>0.0</td>\n",
       "      <td>0.0</td>\n",
       "      <td>0.0</td>\n",
       "      <td>0.0</td>\n",
       "      <td>0.0</td>\n",
       "      <td>0.0</td>\n",
       "      <td>...</td>\n",
       "      <td>0.0</td>\n",
       "      <td>0.0</td>\n",
       "      <td>0.0</td>\n",
       "      <td>0.0</td>\n",
       "      <td>0.0</td>\n",
       "      <td>0.0</td>\n",
       "      <td>0.0</td>\n",
       "      <td>0.0</td>\n",
       "      <td>0.0</td>\n",
       "      <td>0.0</td>\n",
       "    </tr>\n",
       "    <tr>\n",
       "      <th>598</th>\n",
       "      <td>10268</td>\n",
       "      <td>1</td>\n",
       "      <td>neg</td>\n",
       "      <td>Without a doubt this is one of the worst films...</td>\n",
       "      <td>0.0</td>\n",
       "      <td>0.0</td>\n",
       "      <td>0.0</td>\n",
       "      <td>0.0</td>\n",
       "      <td>0.0</td>\n",
       "      <td>0.0</td>\n",
       "      <td>...</td>\n",
       "      <td>0.0</td>\n",
       "      <td>0.0</td>\n",
       "      <td>0.0</td>\n",
       "      <td>0.0</td>\n",
       "      <td>0.0</td>\n",
       "      <td>0.0</td>\n",
       "      <td>0.0</td>\n",
       "      <td>0.0</td>\n",
       "      <td>0.0</td>\n",
       "      <td>0.0</td>\n",
       "    </tr>\n",
       "    <tr>\n",
       "      <th>599</th>\n",
       "      <td>10269</td>\n",
       "      <td>1</td>\n",
       "      <td>neg</td>\n",
       "      <td>this movie is outrageous. by outrageous, i mea...</td>\n",
       "      <td>0.0</td>\n",
       "      <td>0.0</td>\n",
       "      <td>0.0</td>\n",
       "      <td>0.0</td>\n",
       "      <td>0.0</td>\n",
       "      <td>0.0</td>\n",
       "      <td>...</td>\n",
       "      <td>0.0</td>\n",
       "      <td>0.0</td>\n",
       "      <td>0.0</td>\n",
       "      <td>0.0</td>\n",
       "      <td>0.0</td>\n",
       "      <td>0.0</td>\n",
       "      <td>0.0</td>\n",
       "      <td>0.0</td>\n",
       "      <td>0.0</td>\n",
       "      <td>0.0</td>\n",
       "    </tr>\n",
       "    <tr>\n",
       "      <th>600</th>\n",
       "      <td>1026</td>\n",
       "      <td>3</td>\n",
       "      <td>neg</td>\n",
       "      <td>Wow. I do not think I have ever seen a movie w...</td>\n",
       "      <td>0.0</td>\n",
       "      <td>0.0</td>\n",
       "      <td>0.0</td>\n",
       "      <td>0.0</td>\n",
       "      <td>0.0</td>\n",
       "      <td>0.0</td>\n",
       "      <td>...</td>\n",
       "      <td>0.0</td>\n",
       "      <td>0.0</td>\n",
       "      <td>0.0</td>\n",
       "      <td>0.0</td>\n",
       "      <td>0.0</td>\n",
       "      <td>0.0</td>\n",
       "      <td>0.0</td>\n",
       "      <td>0.0</td>\n",
       "      <td>0.0</td>\n",
       "      <td>0.0</td>\n",
       "    </tr>\n",
       "    <tr>\n",
       "      <th>601</th>\n",
       "      <td>10270</td>\n",
       "      <td>1</td>\n",
       "      <td>neg</td>\n",
       "      <td>\"American Nightmare\" is officially tied, in my...</td>\n",
       "      <td>0.0</td>\n",
       "      <td>0.0</td>\n",
       "      <td>0.0</td>\n",
       "      <td>0.0</td>\n",
       "      <td>0.0</td>\n",
       "      <td>0.0</td>\n",
       "      <td>...</td>\n",
       "      <td>0.0</td>\n",
       "      <td>0.0</td>\n",
       "      <td>0.0</td>\n",
       "      <td>0.0</td>\n",
       "      <td>0.0</td>\n",
       "      <td>0.0</td>\n",
       "      <td>0.0</td>\n",
       "      <td>0.0</td>\n",
       "      <td>0.0</td>\n",
       "      <td>0.0</td>\n",
       "    </tr>\n",
       "  </tbody>\n",
       "</table>\n",
       "<p>602 rows × 12331 columns</p>\n",
       "</div>"
      ],
      "text/plain": [
       "     unique_id  rating sentiment  \\\n",
       "0            0       9       pos   \n",
       "1        10000       8       pos   \n",
       "2        10001      10       pos   \n",
       "3        10002       7       pos   \n",
       "4        10003       8       pos   \n",
       "..         ...     ...       ...   \n",
       "597      10267       1       neg   \n",
       "598      10268       1       neg   \n",
       "599      10269       1       neg   \n",
       "600       1026       3       neg   \n",
       "601      10270       1       neg   \n",
       "\n",
       "                                           review_text  000  00am   02   05  \\\n",
       "0    Bromwell High is a cartoon comedy. It ran at t...  0.0   0.0  0.0  0.0   \n",
       "1    Homelessness (or Houselessness as George Carli...  0.0   0.0  0.0  0.0   \n",
       "2    Brilliant over-acting by Lesley Ann Warren. Be...  0.0   0.0  0.0  0.0   \n",
       "3    This is easily the most underrated film inn th...  0.0   0.0  0.0  0.0   \n",
       "4    This is not the typical Mel Brooks film. It wa...  0.0   0.0  0.0  0.0   \n",
       "..                                                 ...  ...   ...  ...  ...   \n",
       "597  This piece ain't really worth a comment.. It's...  0.0   0.0  0.0  0.0   \n",
       "598  Without a doubt this is one of the worst films...  0.0   0.0  0.0  0.0   \n",
       "599  this movie is outrageous. by outrageous, i mea...  0.0   0.0  0.0  0.0   \n",
       "600  Wow. I do not think I have ever seen a movie w...  0.0   0.0  0.0  0.0   \n",
       "601  \"American Nightmare\" is officially tied, in my...  0.0   0.0  0.0  0.0   \n",
       "\n",
       "      06   07  ...  zombiez  zombified  zone  zoom  zooms  zorro  zsigmond  \\\n",
       "0    0.0  0.0  ...      0.0        0.0   0.0   0.0    0.0    0.0       0.0   \n",
       "1    0.0  0.0  ...      0.0        0.0   0.0   0.0    0.0    0.0       0.0   \n",
       "2    0.0  0.0  ...      0.0        0.0   0.0   0.0    0.0    0.0       0.0   \n",
       "3    0.0  0.0  ...      0.0        0.0   0.0   0.0    0.0    0.0       0.0   \n",
       "4    0.0  0.0  ...      0.0        0.0   0.0   0.0    0.0    0.0       0.0   \n",
       "..   ...  ...  ...      ...        ...   ...   ...    ...    ...       ...   \n",
       "597  0.0  0.0  ...      0.0        0.0   0.0   0.0    0.0    0.0       0.0   \n",
       "598  0.0  0.0  ...      0.0        0.0   0.0   0.0    0.0    0.0       0.0   \n",
       "599  0.0  0.0  ...      0.0        0.0   0.0   0.0    0.0    0.0       0.0   \n",
       "600  0.0  0.0  ...      0.0        0.0   0.0   0.0    0.0    0.0       0.0   \n",
       "601  0.0  0.0  ...      0.0        0.0   0.0   0.0    0.0    0.0       0.0   \n",
       "\n",
       "      zu  zubeidaa   â½  \n",
       "0    0.0       0.0  0.0  \n",
       "1    0.0       0.0  0.0  \n",
       "2    0.0       0.0  0.0  \n",
       "3    0.0       0.0  0.0  \n",
       "4    0.0       0.0  0.0  \n",
       "..   ...       ...  ...  \n",
       "597  0.0       0.0  0.0  \n",
       "598  0.0       0.0  0.0  \n",
       "599  0.0       0.0  0.0  \n",
       "600  0.0       0.0  0.0  \n",
       "601  0.0       0.0  0.0  \n",
       "\n",
       "[602 rows x 12331 columns]"
      ]
     },
     "execution_count": 39,
     "metadata": {},
     "output_type": "execute_result"
    }
   ],
   "source": [
    "pd.concat([df, tf_df], axis='columns')"
   ]
  },
  {
   "cell_type": "code",
   "execution_count": 40,
   "id": "a4d3c55e",
   "metadata": {
    "scrolled": true
   },
   "outputs": [
    {
     "data": {
      "text/plain": [
       "sentiment\n",
       "pos    301\n",
       "neg    301\n",
       "Name: count, dtype: int64[pyarrow]"
      ]
     },
     "execution_count": 40,
     "metadata": {},
     "output_type": "execute_result"
    }
   ],
   "source": [
    "df.sentiment.value_counts()"
   ]
  },
  {
   "cell_type": "code",
   "execution_count": null,
   "id": "ed4d8504",
   "metadata": {},
   "outputs": [],
   "source": []
  },
  {
   "cell_type": "code",
   "execution_count": null,
   "id": "8fb9ed4e",
   "metadata": {},
   "outputs": [],
   "source": []
  },
  {
   "cell_type": "code",
   "execution_count": null,
   "id": "ea4e89d7",
   "metadata": {},
   "outputs": [],
   "source": []
  },
  {
   "cell_type": "code",
   "execution_count": null,
   "id": "a0e07de7",
   "metadata": {},
   "outputs": [],
   "source": []
  },
  {
   "cell_type": "markdown",
   "id": "ff0e8175",
   "metadata": {},
   "source": [
    "## Make Classification Model"
   ]
  },
  {
   "cell_type": "code",
   "execution_count": null,
   "id": "a110b87e",
   "metadata": {},
   "outputs": [],
   "source": [
    "# !pip install xgboost"
   ]
  },
  {
   "cell_type": "code",
   "execution_count": 41,
   "id": "9c50366b",
   "metadata": {},
   "outputs": [],
   "source": [
    "import xgboost as xg\n",
    "from sklearn import model_selection"
   ]
  },
  {
   "cell_type": "code",
   "execution_count": 42,
   "id": "458f9ac3",
   "metadata": {
    "scrolled": true
   },
   "outputs": [],
   "source": [
    "X = tf_df\n",
    "y = df.sentiment == 'pos'\n",
    "X_train, X_test, y_train, y_test = model_selection.train_test_split(X, y, stratify=y, random_state=42)"
   ]
  },
  {
   "cell_type": "code",
   "execution_count": 43,
   "id": "67bd61b6",
   "metadata": {},
   "outputs": [
    {
     "data": {
      "text/plain": [
       "0       True\n",
       "1       True\n",
       "2       True\n",
       "3       True\n",
       "4       True\n",
       "       ...  \n",
       "597    False\n",
       "598    False\n",
       "599    False\n",
       "600    False\n",
       "601    False\n",
       "Name: sentiment, Length: 602, dtype: bool[pyarrow]"
      ]
     },
     "execution_count": 43,
     "metadata": {},
     "output_type": "execute_result"
    }
   ],
   "source": [
    "y"
   ]
  },
  {
   "cell_type": "code",
   "execution_count": 44,
   "id": "a266a9e9",
   "metadata": {
    "scrolled": true
   },
   "outputs": [
    {
     "data": {
      "text/html": [
       "<style>#sk-container-id-1 {\n",
       "  /* Definition of color scheme common for light and dark mode */\n",
       "  --sklearn-color-text: black;\n",
       "  --sklearn-color-line: gray;\n",
       "  /* Definition of color scheme for unfitted estimators */\n",
       "  --sklearn-color-unfitted-level-0: #fff5e6;\n",
       "  --sklearn-color-unfitted-level-1: #f6e4d2;\n",
       "  --sklearn-color-unfitted-level-2: #ffe0b3;\n",
       "  --sklearn-color-unfitted-level-3: chocolate;\n",
       "  /* Definition of color scheme for fitted estimators */\n",
       "  --sklearn-color-fitted-level-0: #f0f8ff;\n",
       "  --sklearn-color-fitted-level-1: #d4ebff;\n",
       "  --sklearn-color-fitted-level-2: #b3dbfd;\n",
       "  --sklearn-color-fitted-level-3: cornflowerblue;\n",
       "\n",
       "  /* Specific color for light theme */\n",
       "  --sklearn-color-text-on-default-background: var(--sg-text-color, var(--theme-code-foreground, var(--jp-content-font-color1, black)));\n",
       "  --sklearn-color-background: var(--sg-background-color, var(--theme-background, var(--jp-layout-color0, white)));\n",
       "  --sklearn-color-border-box: var(--sg-text-color, var(--theme-code-foreground, var(--jp-content-font-color1, black)));\n",
       "  --sklearn-color-icon: #696969;\n",
       "\n",
       "  @media (prefers-color-scheme: dark) {\n",
       "    /* Redefinition of color scheme for dark theme */\n",
       "    --sklearn-color-text-on-default-background: var(--sg-text-color, var(--theme-code-foreground, var(--jp-content-font-color1, white)));\n",
       "    --sklearn-color-background: var(--sg-background-color, var(--theme-background, var(--jp-layout-color0, #111)));\n",
       "    --sklearn-color-border-box: var(--sg-text-color, var(--theme-code-foreground, var(--jp-content-font-color1, white)));\n",
       "    --sklearn-color-icon: #878787;\n",
       "  }\n",
       "}\n",
       "\n",
       "#sk-container-id-1 {\n",
       "  color: var(--sklearn-color-text);\n",
       "}\n",
       "\n",
       "#sk-container-id-1 pre {\n",
       "  padding: 0;\n",
       "}\n",
       "\n",
       "#sk-container-id-1 input.sk-hidden--visually {\n",
       "  border: 0;\n",
       "  clip: rect(1px 1px 1px 1px);\n",
       "  clip: rect(1px, 1px, 1px, 1px);\n",
       "  height: 1px;\n",
       "  margin: -1px;\n",
       "  overflow: hidden;\n",
       "  padding: 0;\n",
       "  position: absolute;\n",
       "  width: 1px;\n",
       "}\n",
       "\n",
       "#sk-container-id-1 div.sk-dashed-wrapped {\n",
       "  border: 1px dashed var(--sklearn-color-line);\n",
       "  margin: 0 0.4em 0.5em 0.4em;\n",
       "  box-sizing: border-box;\n",
       "  padding-bottom: 0.4em;\n",
       "  background-color: var(--sklearn-color-background);\n",
       "}\n",
       "\n",
       "#sk-container-id-1 div.sk-container {\n",
       "  /* jupyter's `normalize.less` sets `[hidden] { display: none; }`\n",
       "     but bootstrap.min.css set `[hidden] { display: none !important; }`\n",
       "     so we also need the `!important` here to be able to override the\n",
       "     default hidden behavior on the sphinx rendered scikit-learn.org.\n",
       "     See: https://github.com/scikit-learn/scikit-learn/issues/21755 */\n",
       "  display: inline-block !important;\n",
       "  position: relative;\n",
       "}\n",
       "\n",
       "#sk-container-id-1 div.sk-text-repr-fallback {\n",
       "  display: none;\n",
       "}\n",
       "\n",
       "div.sk-parallel-item,\n",
       "div.sk-serial,\n",
       "div.sk-item {\n",
       "  /* draw centered vertical line to link estimators */\n",
       "  background-image: linear-gradient(var(--sklearn-color-text-on-default-background), var(--sklearn-color-text-on-default-background));\n",
       "  background-size: 2px 100%;\n",
       "  background-repeat: no-repeat;\n",
       "  background-position: center center;\n",
       "}\n",
       "\n",
       "/* Parallel-specific style estimator block */\n",
       "\n",
       "#sk-container-id-1 div.sk-parallel-item::after {\n",
       "  content: \"\";\n",
       "  width: 100%;\n",
       "  border-bottom: 2px solid var(--sklearn-color-text-on-default-background);\n",
       "  flex-grow: 1;\n",
       "}\n",
       "\n",
       "#sk-container-id-1 div.sk-parallel {\n",
       "  display: flex;\n",
       "  align-items: stretch;\n",
       "  justify-content: center;\n",
       "  background-color: var(--sklearn-color-background);\n",
       "  position: relative;\n",
       "}\n",
       "\n",
       "#sk-container-id-1 div.sk-parallel-item {\n",
       "  display: flex;\n",
       "  flex-direction: column;\n",
       "}\n",
       "\n",
       "#sk-container-id-1 div.sk-parallel-item:first-child::after {\n",
       "  align-self: flex-end;\n",
       "  width: 50%;\n",
       "}\n",
       "\n",
       "#sk-container-id-1 div.sk-parallel-item:last-child::after {\n",
       "  align-self: flex-start;\n",
       "  width: 50%;\n",
       "}\n",
       "\n",
       "#sk-container-id-1 div.sk-parallel-item:only-child::after {\n",
       "  width: 0;\n",
       "}\n",
       "\n",
       "/* Serial-specific style estimator block */\n",
       "\n",
       "#sk-container-id-1 div.sk-serial {\n",
       "  display: flex;\n",
       "  flex-direction: column;\n",
       "  align-items: center;\n",
       "  background-color: var(--sklearn-color-background);\n",
       "  padding-right: 1em;\n",
       "  padding-left: 1em;\n",
       "}\n",
       "\n",
       "\n",
       "/* Toggleable style: style used for estimator/Pipeline/ColumnTransformer box that is\n",
       "clickable and can be expanded/collapsed.\n",
       "- Pipeline and ColumnTransformer use this feature and define the default style\n",
       "- Estimators will overwrite some part of the style using the `sk-estimator` class\n",
       "*/\n",
       "\n",
       "/* Pipeline and ColumnTransformer style (default) */\n",
       "\n",
       "#sk-container-id-1 div.sk-toggleable {\n",
       "  /* Default theme specific background. It is overwritten whether we have a\n",
       "  specific estimator or a Pipeline/ColumnTransformer */\n",
       "  background-color: var(--sklearn-color-background);\n",
       "}\n",
       "\n",
       "/* Toggleable label */\n",
       "#sk-container-id-1 label.sk-toggleable__label {\n",
       "  cursor: pointer;\n",
       "  display: block;\n",
       "  width: 100%;\n",
       "  margin-bottom: 0;\n",
       "  padding: 0.5em;\n",
       "  box-sizing: border-box;\n",
       "  text-align: center;\n",
       "}\n",
       "\n",
       "#sk-container-id-1 label.sk-toggleable__label-arrow:before {\n",
       "  /* Arrow on the left of the label */\n",
       "  content: \"▸\";\n",
       "  float: left;\n",
       "  margin-right: 0.25em;\n",
       "  color: var(--sklearn-color-icon);\n",
       "}\n",
       "\n",
       "#sk-container-id-1 label.sk-toggleable__label-arrow:hover:before {\n",
       "  color: var(--sklearn-color-text);\n",
       "}\n",
       "\n",
       "/* Toggleable content - dropdown */\n",
       "\n",
       "#sk-container-id-1 div.sk-toggleable__content {\n",
       "  max-height: 0;\n",
       "  max-width: 0;\n",
       "  overflow: hidden;\n",
       "  text-align: left;\n",
       "  /* unfitted */\n",
       "  background-color: var(--sklearn-color-unfitted-level-0);\n",
       "}\n",
       "\n",
       "#sk-container-id-1 div.sk-toggleable__content.fitted {\n",
       "  /* fitted */\n",
       "  background-color: var(--sklearn-color-fitted-level-0);\n",
       "}\n",
       "\n",
       "#sk-container-id-1 div.sk-toggleable__content pre {\n",
       "  margin: 0.2em;\n",
       "  border-radius: 0.25em;\n",
       "  color: var(--sklearn-color-text);\n",
       "  /* unfitted */\n",
       "  background-color: var(--sklearn-color-unfitted-level-0);\n",
       "}\n",
       "\n",
       "#sk-container-id-1 div.sk-toggleable__content.fitted pre {\n",
       "  /* unfitted */\n",
       "  background-color: var(--sklearn-color-fitted-level-0);\n",
       "}\n",
       "\n",
       "#sk-container-id-1 input.sk-toggleable__control:checked~div.sk-toggleable__content {\n",
       "  /* Expand drop-down */\n",
       "  max-height: 200px;\n",
       "  max-width: 100%;\n",
       "  overflow: auto;\n",
       "}\n",
       "\n",
       "#sk-container-id-1 input.sk-toggleable__control:checked~label.sk-toggleable__label-arrow:before {\n",
       "  content: \"▾\";\n",
       "}\n",
       "\n",
       "/* Pipeline/ColumnTransformer-specific style */\n",
       "\n",
       "#sk-container-id-1 div.sk-label input.sk-toggleable__control:checked~label.sk-toggleable__label {\n",
       "  color: var(--sklearn-color-text);\n",
       "  background-color: var(--sklearn-color-unfitted-level-2);\n",
       "}\n",
       "\n",
       "#sk-container-id-1 div.sk-label.fitted input.sk-toggleable__control:checked~label.sk-toggleable__label {\n",
       "  background-color: var(--sklearn-color-fitted-level-2);\n",
       "}\n",
       "\n",
       "/* Estimator-specific style */\n",
       "\n",
       "/* Colorize estimator box */\n",
       "#sk-container-id-1 div.sk-estimator input.sk-toggleable__control:checked~label.sk-toggleable__label {\n",
       "  /* unfitted */\n",
       "  background-color: var(--sklearn-color-unfitted-level-2);\n",
       "}\n",
       "\n",
       "#sk-container-id-1 div.sk-estimator.fitted input.sk-toggleable__control:checked~label.sk-toggleable__label {\n",
       "  /* fitted */\n",
       "  background-color: var(--sklearn-color-fitted-level-2);\n",
       "}\n",
       "\n",
       "#sk-container-id-1 div.sk-label label.sk-toggleable__label,\n",
       "#sk-container-id-1 div.sk-label label {\n",
       "  /* The background is the default theme color */\n",
       "  color: var(--sklearn-color-text-on-default-background);\n",
       "}\n",
       "\n",
       "/* On hover, darken the color of the background */\n",
       "#sk-container-id-1 div.sk-label:hover label.sk-toggleable__label {\n",
       "  color: var(--sklearn-color-text);\n",
       "  background-color: var(--sklearn-color-unfitted-level-2);\n",
       "}\n",
       "\n",
       "/* Label box, darken color on hover, fitted */\n",
       "#sk-container-id-1 div.sk-label.fitted:hover label.sk-toggleable__label.fitted {\n",
       "  color: var(--sklearn-color-text);\n",
       "  background-color: var(--sklearn-color-fitted-level-2);\n",
       "}\n",
       "\n",
       "/* Estimator label */\n",
       "\n",
       "#sk-container-id-1 div.sk-label label {\n",
       "  font-family: monospace;\n",
       "  font-weight: bold;\n",
       "  display: inline-block;\n",
       "  line-height: 1.2em;\n",
       "}\n",
       "\n",
       "#sk-container-id-1 div.sk-label-container {\n",
       "  text-align: center;\n",
       "}\n",
       "\n",
       "/* Estimator-specific */\n",
       "#sk-container-id-1 div.sk-estimator {\n",
       "  font-family: monospace;\n",
       "  border: 1px dotted var(--sklearn-color-border-box);\n",
       "  border-radius: 0.25em;\n",
       "  box-sizing: border-box;\n",
       "  margin-bottom: 0.5em;\n",
       "  /* unfitted */\n",
       "  background-color: var(--sklearn-color-unfitted-level-0);\n",
       "}\n",
       "\n",
       "#sk-container-id-1 div.sk-estimator.fitted {\n",
       "  /* fitted */\n",
       "  background-color: var(--sklearn-color-fitted-level-0);\n",
       "}\n",
       "\n",
       "/* on hover */\n",
       "#sk-container-id-1 div.sk-estimator:hover {\n",
       "  /* unfitted */\n",
       "  background-color: var(--sklearn-color-unfitted-level-2);\n",
       "}\n",
       "\n",
       "#sk-container-id-1 div.sk-estimator.fitted:hover {\n",
       "  /* fitted */\n",
       "  background-color: var(--sklearn-color-fitted-level-2);\n",
       "}\n",
       "\n",
       "/* Specification for estimator info (e.g. \"i\" and \"?\") */\n",
       "\n",
       "/* Common style for \"i\" and \"?\" */\n",
       "\n",
       ".sk-estimator-doc-link,\n",
       "a:link.sk-estimator-doc-link,\n",
       "a:visited.sk-estimator-doc-link {\n",
       "  float: right;\n",
       "  font-size: smaller;\n",
       "  line-height: 1em;\n",
       "  font-family: monospace;\n",
       "  background-color: var(--sklearn-color-background);\n",
       "  border-radius: 1em;\n",
       "  height: 1em;\n",
       "  width: 1em;\n",
       "  text-decoration: none !important;\n",
       "  margin-left: 1ex;\n",
       "  /* unfitted */\n",
       "  border: var(--sklearn-color-unfitted-level-1) 1pt solid;\n",
       "  color: var(--sklearn-color-unfitted-level-1);\n",
       "}\n",
       "\n",
       ".sk-estimator-doc-link.fitted,\n",
       "a:link.sk-estimator-doc-link.fitted,\n",
       "a:visited.sk-estimator-doc-link.fitted {\n",
       "  /* fitted */\n",
       "  border: var(--sklearn-color-fitted-level-1) 1pt solid;\n",
       "  color: var(--sklearn-color-fitted-level-1);\n",
       "}\n",
       "\n",
       "/* On hover */\n",
       "div.sk-estimator:hover .sk-estimator-doc-link:hover,\n",
       ".sk-estimator-doc-link:hover,\n",
       "div.sk-label-container:hover .sk-estimator-doc-link:hover,\n",
       ".sk-estimator-doc-link:hover {\n",
       "  /* unfitted */\n",
       "  background-color: var(--sklearn-color-unfitted-level-3);\n",
       "  color: var(--sklearn-color-background);\n",
       "  text-decoration: none;\n",
       "}\n",
       "\n",
       "div.sk-estimator.fitted:hover .sk-estimator-doc-link.fitted:hover,\n",
       ".sk-estimator-doc-link.fitted:hover,\n",
       "div.sk-label-container:hover .sk-estimator-doc-link.fitted:hover,\n",
       ".sk-estimator-doc-link.fitted:hover {\n",
       "  /* fitted */\n",
       "  background-color: var(--sklearn-color-fitted-level-3);\n",
       "  color: var(--sklearn-color-background);\n",
       "  text-decoration: none;\n",
       "}\n",
       "\n",
       "/* Span, style for the box shown on hovering the info icon */\n",
       ".sk-estimator-doc-link span {\n",
       "  display: none;\n",
       "  z-index: 9999;\n",
       "  position: relative;\n",
       "  font-weight: normal;\n",
       "  right: .2ex;\n",
       "  padding: .5ex;\n",
       "  margin: .5ex;\n",
       "  width: min-content;\n",
       "  min-width: 20ex;\n",
       "  max-width: 50ex;\n",
       "  color: var(--sklearn-color-text);\n",
       "  box-shadow: 2pt 2pt 4pt #999;\n",
       "  /* unfitted */\n",
       "  background: var(--sklearn-color-unfitted-level-0);\n",
       "  border: .5pt solid var(--sklearn-color-unfitted-level-3);\n",
       "}\n",
       "\n",
       ".sk-estimator-doc-link.fitted span {\n",
       "  /* fitted */\n",
       "  background: var(--sklearn-color-fitted-level-0);\n",
       "  border: var(--sklearn-color-fitted-level-3);\n",
       "}\n",
       "\n",
       ".sk-estimator-doc-link:hover span {\n",
       "  display: block;\n",
       "}\n",
       "\n",
       "/* \"?\"-specific style due to the `<a>` HTML tag */\n",
       "\n",
       "#sk-container-id-1 a.estimator_doc_link {\n",
       "  float: right;\n",
       "  font-size: 1rem;\n",
       "  line-height: 1em;\n",
       "  font-family: monospace;\n",
       "  background-color: var(--sklearn-color-background);\n",
       "  border-radius: 1rem;\n",
       "  height: 1rem;\n",
       "  width: 1rem;\n",
       "  text-decoration: none;\n",
       "  /* unfitted */\n",
       "  color: var(--sklearn-color-unfitted-level-1);\n",
       "  border: var(--sklearn-color-unfitted-level-1) 1pt solid;\n",
       "}\n",
       "\n",
       "#sk-container-id-1 a.estimator_doc_link.fitted {\n",
       "  /* fitted */\n",
       "  border: var(--sklearn-color-fitted-level-1) 1pt solid;\n",
       "  color: var(--sklearn-color-fitted-level-1);\n",
       "}\n",
       "\n",
       "/* On hover */\n",
       "#sk-container-id-1 a.estimator_doc_link:hover {\n",
       "  /* unfitted */\n",
       "  background-color: var(--sklearn-color-unfitted-level-3);\n",
       "  color: var(--sklearn-color-background);\n",
       "  text-decoration: none;\n",
       "}\n",
       "\n",
       "#sk-container-id-1 a.estimator_doc_link.fitted:hover {\n",
       "  /* fitted */\n",
       "  background-color: var(--sklearn-color-fitted-level-3);\n",
       "}\n",
       "</style><div id=\"sk-container-id-1\" class=\"sk-top-container\"><div class=\"sk-text-repr-fallback\"><pre>XGBClassifier(base_score=None, booster=None, callbacks=None,\n",
       "              colsample_bylevel=None, colsample_bynode=None,\n",
       "              colsample_bytree=None, device=None, early_stopping_rounds=None,\n",
       "              enable_categorical=False, eval_metric=None, feature_types=None,\n",
       "              gamma=None, grow_policy=None, importance_type=None,\n",
       "              interaction_constraints=None, learning_rate=None, max_bin=None,\n",
       "              max_cat_threshold=None, max_cat_to_onehot=None,\n",
       "              max_delta_step=None, max_depth=None, max_leaves=None,\n",
       "              min_child_weight=None, missing=nan, monotone_constraints=None,\n",
       "              multi_strategy=None, n_estimators=None, n_jobs=None,\n",
       "              num_parallel_tree=None, random_state=None, ...)</pre><b>In a Jupyter environment, please rerun this cell to show the HTML representation or trust the notebook. <br />On GitHub, the HTML representation is unable to render, please try loading this page with nbviewer.org.</b></div><div class=\"sk-container\" hidden><div class=\"sk-item\"><div class=\"sk-estimator fitted sk-toggleable\"><input class=\"sk-toggleable__control sk-hidden--visually\" id=\"sk-estimator-id-1\" type=\"checkbox\" checked><label for=\"sk-estimator-id-1\" class=\"sk-toggleable__label fitted sk-toggleable__label-arrow fitted\">&nbsp;XGBClassifier<span class=\"sk-estimator-doc-link fitted\">i<span>Fitted</span></span></label><div class=\"sk-toggleable__content fitted\"><pre>XGBClassifier(base_score=None, booster=None, callbacks=None,\n",
       "              colsample_bylevel=None, colsample_bynode=None,\n",
       "              colsample_bytree=None, device=None, early_stopping_rounds=None,\n",
       "              enable_categorical=False, eval_metric=None, feature_types=None,\n",
       "              gamma=None, grow_policy=None, importance_type=None,\n",
       "              interaction_constraints=None, learning_rate=None, max_bin=None,\n",
       "              max_cat_threshold=None, max_cat_to_onehot=None,\n",
       "              max_delta_step=None, max_depth=None, max_leaves=None,\n",
       "              min_child_weight=None, missing=nan, monotone_constraints=None,\n",
       "              multi_strategy=None, n_estimators=None, n_jobs=None,\n",
       "              num_parallel_tree=None, random_state=None, ...)</pre></div> </div></div></div></div>"
      ],
      "text/plain": [
       "XGBClassifier(base_score=None, booster=None, callbacks=None,\n",
       "              colsample_bylevel=None, colsample_bynode=None,\n",
       "              colsample_bytree=None, device=None, early_stopping_rounds=None,\n",
       "              enable_categorical=False, eval_metric=None, feature_types=None,\n",
       "              gamma=None, grow_policy=None, importance_type=None,\n",
       "              interaction_constraints=None, learning_rate=None, max_bin=None,\n",
       "              max_cat_threshold=None, max_cat_to_onehot=None,\n",
       "              max_delta_step=None, max_depth=None, max_leaves=None,\n",
       "              min_child_weight=None, missing=nan, monotone_constraints=None,\n",
       "              multi_strategy=None, n_estimators=None, n_jobs=None,\n",
       "              num_parallel_tree=None, random_state=None, ...)"
      ]
     },
     "execution_count": 44,
     "metadata": {},
     "output_type": "execute_result"
    }
   ],
   "source": [
    "xgb = xg.XGBClassifier()\n",
    "xgb.fit(X_train, y_train)"
   ]
  },
  {
   "cell_type": "code",
   "execution_count": 45,
   "id": "509cb998",
   "metadata": {},
   "outputs": [
    {
     "data": {
      "text/plain": [
       "0.7814569536423841"
      ]
     },
     "execution_count": 45,
     "metadata": {},
     "output_type": "execute_result"
    }
   ],
   "source": [
    "xgb.score(X_test, y_test)"
   ]
  },
  {
   "cell_type": "code",
   "execution_count": null,
   "id": "fb926f49",
   "metadata": {},
   "outputs": [],
   "source": []
  },
  {
   "cell_type": "code",
   "execution_count": null,
   "id": "6da525a6",
   "metadata": {},
   "outputs": [],
   "source": []
  },
  {
   "cell_type": "markdown",
   "id": "eb20851b",
   "metadata": {},
   "source": [
    "## Predict a New Review"
   ]
  },
  {
   "cell_type": "code",
   "execution_count": null,
   "id": "741d3971",
   "metadata": {
    "lines_to_next_cell": 0
   },
   "outputs": [],
   "source": [
    "X_new = (pd.DataFrame({'review_text': \n",
    "              ['I hated this movie. It was the worst. I don not recommend it',\n",
    "              'This was the best movie I have ever seen',\n",
    "              'I think I know how I felt about this move. Both good but weird parts']})\n",
    ".review_text\n",
    ".apply(remove_stop, nlp=nlp)\n",
    ".pipe(lambda ser: \n",
    "      pd.DataFrame(vectorizer.transform(ser).todense(),\n",
    "            columns=vectorizer.get_feature_names_out()))\n",
    ")\n",
    "\n",
    "X_new"
   ]
  },
  {
   "cell_type": "code",
   "execution_count": null,
   "id": "a7665406",
   "metadata": {
    "lines_to_next_cell": 2
   },
   "outputs": [],
   "source": []
  },
  {
   "cell_type": "code",
   "execution_count": null,
   "id": "5771743f",
   "metadata": {},
   "outputs": [],
   "source": [
    "xgb.predict(X_new)"
   ]
  },
  {
   "cell_type": "code",
   "execution_count": null,
   "id": "e0df9552",
   "metadata": {
    "scrolled": true
   },
   "outputs": [],
   "source": [
    "xgb.predict_proba(X_new)"
   ]
  },
  {
   "cell_type": "code",
   "execution_count": null,
   "id": "9086011e",
   "metadata": {},
   "outputs": [],
   "source": [
    "xgb.classes_"
   ]
  },
  {
   "cell_type": "code",
   "execution_count": null,
   "id": "ba080678",
   "metadata": {},
   "outputs": [],
   "source": []
  },
  {
   "cell_type": "code",
   "execution_count": null,
   "id": "a351e08b",
   "metadata": {},
   "outputs": [],
   "source": []
  },
  {
   "cell_type": "code",
   "execution_count": null,
   "id": "5d106390",
   "metadata": {},
   "outputs": [],
   "source": []
  },
  {
   "cell_type": "code",
   "execution_count": null,
   "id": "171dcdce",
   "metadata": {},
   "outputs": [],
   "source": []
  },
  {
   "cell_type": "code",
   "execution_count": null,
   "id": "d0c18da7",
   "metadata": {},
   "outputs": [],
   "source": []
  },
  {
   "cell_type": "code",
   "execution_count": null,
   "id": "b42f19ec",
   "metadata": {},
   "outputs": [],
   "source": []
  },
  {
   "cell_type": "code",
   "execution_count": null,
   "id": "a76bc81d",
   "metadata": {},
   "outputs": [],
   "source": []
  },
  {
   "cell_type": "code",
   "execution_count": null,
   "id": "c8e5291a",
   "metadata": {},
   "outputs": [],
   "source": []
  },
  {
   "cell_type": "code",
   "execution_count": null,
   "id": "f5a4e259",
   "metadata": {},
   "outputs": [],
   "source": []
  }
 ],
 "metadata": {
  "jupytext": {
   "formats": "ipynb,py:light"
  },
  "kernelspec": {
   "display_name": "Python 3 (ipykernel)",
   "language": "python",
   "name": "python3"
  },
  "language_info": {
   "codemirror_mode": {
    "name": "ipython",
    "version": 3
   },
   "file_extension": ".py",
   "mimetype": "text/x-python",
   "name": "python",
   "nbconvert_exporter": "python",
   "pygments_lexer": "ipython3",
   "version": "3.12.0"
  }
 },
 "nbformat": 4,
 "nbformat_minor": 5
}
